{
 "cells": [
  {
   "cell_type": "code",
   "execution_count": 1,
   "id": "c08a20f0",
   "metadata": {},
   "outputs": [],
   "source": [
    "import numpy as np"
   ]
  },
  {
   "cell_type": "code",
   "execution_count": 2,
   "id": "dccb3f9a",
   "metadata": {},
   "outputs": [],
   "source": [
    "vetorW = np.random.random(10000)\n",
    "vetorX = np.random.random(10000)"
   ]
  },
  {
   "cell_type": "code",
   "execution_count": 3,
   "id": "5b445f67",
   "metadata": {},
   "outputs": [],
   "source": [
    "import time"
   ]
  },
  {
   "cell_type": "code",
   "execution_count": 4,
   "id": "03643bbd",
   "metadata": {},
   "outputs": [],
   "source": [
    "inicio = time.perf_counter()\n",
    "soma = 0\n",
    "\n",
    "for n in range(10000):\n",
    "    soma += vetorW[n] *  vetorX[n]\n",
    "\n",
    "resultadoPerf1 = time.perf_counter() - inicio"
   ]
  },
  {
   "cell_type": "code",
   "execution_count": 5,
   "id": "a321f4be",
   "metadata": {},
   "outputs": [],
   "source": [
    "inicio = time.perf_counter()\n",
    "\n",
    "soma2 = np.dot(vetorW,vetorX)\n",
    "\n",
    "resultadoPerf2 = time.perf_counter() - inicio"
   ]
  },
  {
   "cell_type": "code",
   "execution_count": 6,
   "id": "7dc99405",
   "metadata": {},
   "outputs": [
    {
     "name": "stdout",
     "output_type": "stream",
     "text": [
      "2532.9615085697046 2532.961508569711\n",
      "0.002485862999492383 0.00014403100067283958\n"
     ]
    }
   ],
   "source": [
    "print(soma, soma2)\n",
    "\n",
    "print(resultadoPerf1, resultadoPerf2)"
   ]
  },
  {
   "cell_type": "code",
   "execution_count": 8,
   "id": "632455ad",
   "metadata": {},
   "outputs": [
    {
     "name": "stdout",
     "output_type": "stream",
     "text": [
      "5.794003961692616\n"
     ]
    }
   ],
   "source": [
    "print((resultadoPerf2/resultadoPerf1)*100)"
   ]
  },
  {
   "cell_type": "code",
   "execution_count": null,
   "id": "20908098",
   "metadata": {},
   "outputs": [],
   "source": []
  }
 ],
 "metadata": {
  "kernelspec": {
   "display_name": "venv",
   "language": "python",
   "name": "python3"
  },
  "language_info": {
   "codemirror_mode": {
    "name": "ipython",
    "version": 3
   },
   "file_extension": ".py",
   "mimetype": "text/x-python",
   "name": "python",
   "nbconvert_exporter": "python",
   "pygments_lexer": "ipython3",
   "version": "3.13.3"
  }
 },
 "nbformat": 4,
 "nbformat_minor": 5
}
